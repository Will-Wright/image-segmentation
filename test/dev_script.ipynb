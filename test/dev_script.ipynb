{
 "cells": [
  {
   "cell_type": "code",
   "execution_count": 3,
   "metadata": {
    "scrolled": false
   },
   "outputs": [
    {
     "name": "stdout",
     "output_type": "stream",
     "text": [
      "ImSeg demo called.  Displaying full-size demo image.\n",
      "To view must-link constraints, hover mouse over image and press <Return>.\n",
      "To continue demo, hover over image and press <Return> again.\n",
      "All experiments complete.\n",
      "Plotting segmented image.\n"
     ]
    }
   ],
   "source": [
    "import os\n",
    "os.chdir('../')\n",
    "import RunDemo\n",
    "data=RunDemo.main()"
   ]
  },
  {
   "cell_type": "code",
   "execution_count": 4,
   "metadata": {},
   "outputs": [],
   "source": [
    "import matplotlib.pyplot as plt\n",
    "import numpy as np\n",
    "from PIL import Image, ImageTk\n"
   ]
  },
  {
   "cell_type": "code",
   "execution_count": 5,
   "metadata": {},
   "outputs": [],
   "source": [
    "SDPSS_time = data['SDPSS_time']\n",
    "NES_time = data['NES_time']\n",
    "num_pixels = data['num_pixels']\n",
    "SDPSS_eig_calls = data['SDPSS_eig_calls']\n",
    "NES_eig_calls = data['NES_eig_calls']\n",
    "im_seg_RGB_arr = data['im_seg_RGB_arr']\n"
   ]
  },
  {
   "cell_type": "code",
   "execution_count": 6,
   "metadata": {},
   "outputs": [
    {
     "data": {
      "image/png": "[encoded data removed]",
      "text/plain": [
       "<matplotlib.figure.Figure at 0x10167c048>"
      ]
     },
     "metadata": {},
     "output_type": "display_data"
    }
   ],
   "source": [
    "# Saves figure of performance comparison \n",
    "fig = plt.figure()\n",
    "fig.canvas.draw()\n",
    "ax = fig.add_subplot(111)\n",
    "plt.plot(num_pixels, NES_time, 'r--', label='Newton')\n",
    "plt.plot(num_pixels, SDPSS_time, 'b', label='SDP-Subspace')\n",
    "\n",
    "fig.suptitle('SDPSS vs Newton for various sized images')\n",
    "plt.xlabel('Number pixels (x1000)')\n",
    "plt.ylabel('Runtime (secs)')\n",
    "plt.legend()\n",
    "\n",
    "labels=ax.get_xticks().tolist()\n",
    "labels = [np.int16(l/1000) for l in labels]\n",
    "ax.set_xticklabels(labels)\n",
    "plt.savefig('demo_fig1.png')"
   ]
  },
  {
   "cell_type": "code",
   "execution_count": 6,
   "metadata": {},
   "outputs": [
    {
     "data": {
      "text/plain": [
       "array([[   266.],\n",
       "       [   414.],\n",
       "       [   638.],\n",
       "       [  1036.],\n",
       "       [  1564.],\n",
       "       [  2451.],\n",
       "       [  3834.],\n",
       "       [  5963.],\n",
       "       [  9408.],\n",
       "       [ 14700.],\n",
       "       [ 22794.],\n",
       "       [ 35752.],\n",
       "       [ 55965.],\n",
       "       [ 87637.],\n",
       "       [136746.]])"
      ]
     },
     "execution_count": 6,
     "metadata": {},
     "output_type": "execute_result"
    }
   ],
   "source": [
    "num_pixels"
   ]
  },
  {
   "cell_type": "code",
   "execution_count": 5,
   "metadata": {},
   "outputs": [
    {
     "data": {
      "text/plain": [
       "array([[1.81370020e-01],\n",
       "       [1.76473379e-01],\n",
       "       [3.48216057e-01],\n",
       "       [3.20227861e-01],\n",
       "       [3.92493010e-01],\n",
       "       [3.97217274e-01],\n",
       "       [6.12343311e-01],\n",
       "       [1.21653533e+00],\n",
       "       [2.41336703e+00],\n",
       "       [2.23375807e+01],\n",
       "       [9.18956089e+00],\n",
       "       [1.72264724e+01],\n",
       "       [2.53712274e+02],\n",
       "       [9.77081234e+01],\n",
       "       [1.32981891e+02]])"
      ]
     },
     "execution_count": 5,
     "metadata": {},
     "output_type": "execute_result"
    }
   ],
   "source": [
    "NES_time"
   ]
  },
  {
   "cell_type": "code",
   "execution_count": 9,
   "metadata": {},
   "outputs": [],
   "source": [
    "im_seg_RGB = Image.fromarray(im_seg_RGB_arr)"
   ]
  },
  {
   "cell_type": "code",
   "execution_count": 10,
   "metadata": {},
   "outputs": [],
   "source": [
    "im_seg_RGB.show(title=\"Newton Image\")"
   ]
  },
  {
   "cell_type": "code",
   "execution_count": null,
   "metadata": {},
   "outputs": [],
   "source": []
  },
  {
   "cell_type": "code",
   "execution_count": null,
   "metadata": {},
   "outputs": [],
   "source": []
  },
  {
   "cell_type": "code",
   "execution_count": null,
   "metadata": {},
   "outputs": [],
   "source": []
  },
  {
   "cell_type": "code",
   "execution_count": null,
   "metadata": {},
   "outputs": [],
   "source": []
  },
  {
   "cell_type": "code",
   "execution_count": 7,
   "metadata": {
    "scrolled": false
   },
   "outputs": [
    {
     "name": "stdout",
     "output_type": "stream",
     "text": [
      "Click on pixels in region 1.  Press <Return> to change to region 2.\n",
      "Clicked at (216, 55)\n",
      "Clicked at (170, 44)\n",
      "Clicked at (30, 15)\n",
      "Clicked at (21, 85)\n",
      "Click on pixels in region 2.  Press <Return> when done.\n",
      "Clicked at (62, 77)\n",
      "Clicked at (58, 159)\n",
      "Clicked at (234, 114)\n",
      "Clicked at (252, 168)\n",
      "Clicked at (121, 138)\n",
      "Image segmentation (NCuts) called with link constraints\n",
      "   for image of size (284, 177)\n",
      "GetConstraintNullspace time  :  0.01\n",
      "GetAdjMat time               :  0.40\n",
      "\n",
      "SDPSubspaceSolver called with eigenvalue solver lobpcg and SDP solver cvx\n",
      "    |                                         | Runtime Ratios | \n",
      " it | probj        dures    prres    dugap    | eig  SDP  main | eigtol   prdim  time |  y[0]         y[1]\n",
      "  0 | 8.80805e-04 -1.00e+00 0.00e+00 5.23e-12 | 0.00 0.53 0.47 | 1.0e-04     2   0.06 |  8.80805e-04  4.40956e+01\n",
      "  1 | 6.50472e-04 -7.11e-01 1.11e-16 4.90e-12 | 0.88 0.03 0.09 | 1.0e-04     3   0.35 |  6.50472e-04  3.25167e+01\n",
      "  2 | 5.13347e-04 -1.01e-01 8.88e-16 1.18e-11 | 0.92 0.02 0.06 | 1.0e-04     4   0.57 |  5.13347e-04  2.56235e+01\n",
      "  3 | 1.97657e-04 -1.80e-02 4.44e-16 1.02e-11 | 0.95 0.01 0.04 | 1.0e-04     5   1.27 |  1.97657e-04  9.75448e+00\n",
      "  4 | 1.63454e-05 -2.21e-03 3.39e-20 1.90e-12 | 0.98 0.01 0.02 | 1.0e-04     6   2.60 |  1.63454e-05  6.39835e-01\n",
      "  5 | 5.78326e-06 -9.10e-05 1.78e-15 2.37e-11 | 0.98 0.00 0.01 | 1.0e-04     7   4.81 |  5.78324e-06  1.11034e-01\n",
      "  6 | 5.30055e-06 -3.64e-06 4.44e-16 1.23e-11 | 0.97 0.00 0.02 | 1.0e-04     8   2.77 |  5.30054e-06  8.64172e-02\n",
      "\n",
      "EXIT -- Optimal solution found.\n",
      "\n",
      "Total runtime   :   12.44\n",
      "Num eig calls   :   6\n",
      "\n",
      "\n",
      "[-1.98928538e-05] [[5.92558033e-06]] [0.01881658] [[0.83061711]]\n",
      "NewtonSolver called with eigenvalue solver eigsh\n",
      "    |                                N-step | Runtime Ratios |                 | \n",
      " it |  probj       prres    dugap   try take| eig  Ax=b main | eigtol     time |  f            t\n",
      "  0 |  8.83119e-04 6.83e-01 6.98e-01  N   N | 0.99 0.00 0.01 | 1.0e-04    1.94 |  8.83119e-04 -4.40959e+01\n",
      "  1 | -1.21922e-01 1.34e-02 5.91e-01  N   N | 0.99 0.00 0.01 | 5.0e-05    0.34 | -1.21922e-01 -3.49428e+01\n",
      "  2 | -2.57869e-02 6.62e-03 2.31e-01  N   N | 0.99 0.00 0.01 | 2.5e-05    0.53 | -2.57869e-02 -3.09526e+01\n",
      "  3 | -7.67194e-03 2.62e-03 8.10e-02  N   N | 0.99 0.00 0.01 | 1.3e-05    0.93 | -7.67194e-03 -2.78055e+01\n",
      "  4 | -2.63450e-03 8.53e-04 2.37e-02  N   N | 1.00 0.00 0.00 | 1.0e-05    1.48 | -2.63450e-03 -2.41486e+01\n",
      "  5 | -9.11810e-04 2.35e-04 5.68e-03  N   N | 1.00 0.00 0.00 | 1.0e-05    2.86 | -9.11810e-04 -1.86697e+01\n",
      "  6 | -2.59430e-04 5.50e-05 1.03e-03  N   N | 1.00 0.00 0.00 | 1.0e-05    5.05 | -2.59430e-04 -1.01694e+01\n",
      "  7 | -3.93253e-05 1.03e-05 1.04e-04  N   N | 1.00 0.00 0.00 | 1.0e-05   14.38 | -3.93253e-05 -1.95927e+00\n",
      "  8 |  3.04415e-06 1.75e-06 3.43e-06  N   N | 1.00 0.00 0.00 | 1.0e-05  132.13 |  3.04415e-06 -1.95927e+00\n",
      "\n",
      "EXIT -- Optimal solution found.\n",
      "\n",
      "Total runtime     :   159.63\n",
      "Num eig calls     :   10\n",
      "Num Ax=b solves   :   0\n",
      "\n",
      "\n"
     ]
    }
   ],
   "source": [
    "# Run ImSeg\n",
    "\n",
    "from ImSeg import ImSeg\n",
    "\n",
    "cvx_verbose = False\n",
    "\n",
    "# person_walking_small.jpg\n",
    "#sig_dist=4 # default: 3-5\n",
    "#sig_feat=7 # default: 5-7\n",
    "#max_dist=3 # default: 3-5\n",
    "\n",
    "\n",
    "sig_dist=3 # default: 3-5\n",
    "sig_feat=4 # default: 5-7\n",
    "max_dist=3 # default: 3-5\n",
    "\n",
    "\n",
    "# person_walking_small.jpg\n",
    "use_RGB = True\n",
    "\n",
    "# amoeba.jpg\n",
    "#use_RGB = False\n",
    "is_demo_mode=True\n",
    "\n",
    "verbosity=2\n",
    "\n",
    "#im_path = 'test/amoeba.jpg'\n",
    "im_path = 'test/tree.jpeg'\n",
    "#im_path = 'test/tree_medium.jpeg'\n",
    "#im_path = 'test/tree_small.jpeg'\n",
    "#im_path = 'test/tree_tiny.jpeg'\n",
    "\n",
    "#im_path = 'test/person_walking_small.jpg'\n",
    "#im_path = 'test/person_walking.jpg'\n",
    "\n",
    "attempt_resize=False\n",
    "resize_min_num_pix = 200\n",
    "resize_ratio = 0.5\n",
    "\n",
    "return_data = True\n",
    "\n",
    "\n",
    "# person_walking_small.jpg\n",
    "#eigsh_tol_init = 1e-4\n",
    "#eigsh_tol_update = 5e-1\n",
    "#eigsh_tol_min = 1e-4\n",
    "\n",
    "#lobpcg_tol_init = 1e-4\n",
    "#lobpcg_tol_update = 5e-1\n",
    "#lobpcg_tol_min = 1e-4\n",
    "\n",
    "# tree\n",
    "eigsh_tol_init = 1e-4\n",
    "eigsh_tol_update = 5e-1\n",
    "eigsh_tol_min = 1e-5\n",
    "\n",
    "lobpcg_tol_init = 1e-4\n",
    "lobpcg_tol_update = 5e-1\n",
    "lobpcg_tol_min = 1e-4\n",
    "\n",
    "pr_tol=1e-5\n",
    "du_tol=1e-5\n",
    "gap_tol=1e-5\n",
    "\n",
    "#eig_solver = \"eigsh\"\n",
    "eig_solver = \"lobpcg\"\n",
    "SDPSS_max_iters = 20\n",
    "SDPSS_pr_update = 1\n",
    "\n",
    "use_NewtonEigSolver = True\n",
    "#use_NewtonEigSolver = False\n",
    "#use_Newton_step = True\n",
    "use_Newton_step = False\n",
    "Newton_max_iters = 20\n",
    "Newton_eig_solver=\"eigsh\"\n",
    "#Newton_eig_solver=\"lobpcg\"\n",
    "\n",
    "\n",
    "must_link_list1 = []; must_link_list2 = [];\n",
    "#must_link_list1 = must_link_list1; must_link_list2 = must_link_list2;\n",
    "\n",
    "#must_link_list1 = [[227, 102], [29, 125], [55, 65], [222, 20], [125, 55], [141, 108]]\n",
    "#must_link_list2 = [[71, 129], [105, 123], [132, 139], [197, 135], [235, 159], [243, 238], [160, 266], [23, 169], [34, 216], [42, 247], [154, 180], [107, 207], [156, 226]]\n",
    "\n",
    "# Small tree\n",
    "#must_link_list1 = [[59, 11], [42, 15], [31, 12]]\n",
    "#must_link_list2 = [[17, 17], [14, 33], [29, 33], [57, 32]]\n",
    "\n",
    "# Med tree\n",
    "#must_link_list1 = [[130, 32], [83, 21], [14, 11], [67, 32]]\n",
    "#must_link_list2 = [[37, 25], [33, 40], [26, 61], [25, 78], [95, 71], [120, 62]]\n",
    "\n",
    "# Full tree\n",
    "#must_link_list1 = [[258, 72], [169, 75], [144, 39], [39, 17], [19, 66]]\n",
    "#must_link_list2 = [[66, 44], [73, 68], [42, 158], [134, 138], [206, 108], [258, 157], [92, 124]]\n",
    "\n",
    "\n",
    "# PERSON WALKING SMALL\n",
    "#must_link_list1 = [[136, 16], [127, 35], [149, 38], [157, 52], [158, 60], [119, 59], \n",
    "#                   [121, 49], [129, 79], [128, 94], [132, 132], [132, 121], [142, 88], \n",
    "#                   [143, 122], [139, 143], [139, 150], [138, 68], [138, 49]]\n",
    "#must_link_list2 = [[81, 40], [52, 40], [57, 25], [85, 23], [97, 39], [37, 14], [23, 79], \n",
    "#                   [45, 129], [75, 88], [122, 149], [115, 105], [114, 65], [111, 40], [123, 9], \n",
    "#                   [148, 8], [160, 28], [169, 51], [163, 74], [157, 93], [154, 145], [199, 153], \n",
    "#                   [199, 65], [199, 8], [199, 39], [183, 116]]\n",
    "\n",
    "\n",
    "# PERSON WALKING \n",
    "#must_link_list1 = [[273, 33], [279, 88], [235, 116], [265, 154], [318, 114], \n",
    "#                   [281, 192], [264, 266], [275, 300]]\n",
    "#must_link_list2 = [[222, 286], [164, 73], [127, 81], [36, 32], [40, 106], [34, 163],\n",
    "#                   [227, 36], [378, 25], [394, 144], [391, 281], [217, 141], [335, 119]]\n",
    "\n",
    "#\n",
    "# TO-DOs:\n",
    "# - Fix 1/0 in NewtonSolver\n",
    "#\n",
    "\n",
    "\n",
    "[im_RGB_arr, adj_mat, must_link_list1, must_link_list2, \\\n",
    " X_sub, V_sub, im_seg_RGB_arr, im_RGB, N, data_ImSeg] \\\n",
    "    = ImSeg(im_path = im_path, \\\n",
    "            attempt_resize=attempt_resize, \\\n",
    "            return_data=return_data, \\\n",
    "            resize_min_num_pix=resize_min_num_pix, \\\n",
    "            resize_ratio=resize_ratio, \\\n",
    "             cvx_verbose=cvx_verbose, eig_solver = eig_solver, \\\n",
    "             pr_tol=pr_tol, du_tol=du_tol, gap_tol=gap_tol, \\\n",
    "             sig_dist=sig_dist, sig_feat=sig_feat, max_dist=max_dist, \\\n",
    "             eigsh_tol_init=eigsh_tol_init, \\\n",
    "             eigsh_tol_update=eigsh_tol_update, eigsh_tol_min=eigsh_tol_min, \\\n",
    "             lobpcg_tol_init=lobpcg_tol_init, \\\n",
    "             lobpcg_tol_update=lobpcg_tol_update, lobpcg_tol_min=lobpcg_tol_min, \\\n",
    "             SDPSS_max_iters=SDPSS_max_iters, SDPSS_pr_update=SDPSS_pr_update, \\\n",
    "             must_link_list1 = must_link_list1, must_link_list2 = must_link_list2, \\\n",
    "             use_RGB=use_RGB, \\\n",
    "             use_NewtonEigSolver=use_NewtonEigSolver, Newton_eig_solver=Newton_eig_solver, \\\n",
    "             use_Newton_step=use_Newton_step, Newton_max_iters=Newton_max_iters, \\\n",
    "             is_demo_mode=is_demo_mode, verbosity=verbosity);"
   ]
  },
  {
   "cell_type": "code",
   "execution_count": 6,
   "metadata": {},
   "outputs": [
    {
     "data": {
      "text/plain": [
       "[[81, 40],\n",
       " [52, 40],\n",
       " [57, 25],\n",
       " [85, 23],\n",
       " [97, 39],\n",
       " [37, 14],\n",
       " [23, 79],\n",
       " [45, 129],\n",
       " [75, 88],\n",
       " [122, 149],\n",
       " [115, 105],\n",
       " [114, 65],\n",
       " [111, 40],\n",
       " [123, 9],\n",
       " [148, 8],\n",
       " [160, 28],\n",
       " [169, 51],\n",
       " [163, 74],\n",
       " [157, 93],\n",
       " [154, 145],\n",
       " [199, 153],\n",
       " [199, 65],\n",
       " [199, 8],\n",
       " [199, 39],\n",
       " [183, 116]]"
      ]
     },
     "execution_count": 6,
     "metadata": {},
     "output_type": "execute_result"
    }
   ],
   "source": []
  },
  {
   "cell_type": "code",
   "execution_count": null,
   "metadata": {},
   "outputs": [],
   "source": []
  },
  {
   "cell_type": "code",
   "execution_count": null,
   "metadata": {},
   "outputs": [],
   "source": []
  },
  {
   "cell_type": "code",
   "execution_count": null,
   "metadata": {},
   "outputs": [],
   "source": [
    "\n",
    "        "
   ]
  },
  {
   "cell_type": "code",
   "execution_count": null,
   "metadata": {},
   "outputs": [],
   "source": []
  },
  {
   "cell_type": "code",
   "execution_count": null,
   "metadata": {},
   "outputs": [],
   "source": []
  },
  {
   "cell_type": "code",
   "execution_count": 8,
   "metadata": {},
   "outputs": [],
   "source": [
    "import numpy as np\n",
    "x = np.arange(10)\n",
    "y = np.sin(x)\n",
    "np.savez_compressed('text_file.npz', x=x, y=y)"
   ]
  },
  {
   "cell_type": "code",
   "execution_count": 9,
   "metadata": {},
   "outputs": [
    {
     "data": {
      "text/plain": [
       "True"
      ]
     },
     "execution_count": 9,
     "metadata": {},
     "output_type": "execute_result"
    }
   ],
   "source": [
    "os.path.exists('text_file.npz')"
   ]
  },
  {
   "cell_type": "code",
   "execution_count": 10,
   "metadata": {},
   "outputs": [
    {
     "name": "stdout",
     "output_type": "stream",
     "text": [
      "[0 1 2 3 4 5 6 7 8 9]\n"
     ]
    }
   ],
   "source": [
    "file = np.load('text_file.npz')\n",
    "print(file['x'])"
   ]
  },
  {
   "cell_type": "code",
   "execution_count": null,
   "metadata": {},
   "outputs": [],
   "source": []
  },
  {
   "cell_type": "code",
   "execution_count": null,
   "metadata": {},
   "outputs": [],
   "source": []
  },
  {
   "cell_type": "code",
   "execution_count": 4,
   "metadata": {},
   "outputs": [],
   "source": [
    "# This code plots (t,f) vals for SDPSS and NES\n",
    "#\n",
    "# Might help with developing a primal-dual method (!!!)\n",
    "#\n",
    "\n",
    "\n",
    "import matplotlib\n",
    "from matplotlib.pyplot import plot\n",
    "import numpy as np"
   ]
  },
  {
   "cell_type": "code",
   "execution_count": 5,
   "metadata": {},
   "outputs": [],
   "source": [
    "y0 = np.zeros((len(data_ImSeg[0][1]),1))\n",
    "y1 = np.zeros((len(data_ImSeg[0][1]),1))\n",
    "for i in range(0,len(data_ImSeg[0][1])):\n",
    "    y0[i] = data_ImSeg[0][1][i][0][0]\n",
    "    y1[i] = -data_ImSeg[0][1][i][1][0]\n",
    "\n",
    "f = np.zeros((len(data_ImSeg[1][1]),1))\n",
    "t = np.zeros((len(data_ImSeg[1][1]),1))\n",
    "for i in range(0,len(data_ImSeg[1][1])):\n",
    "    f[i] = data_ImSeg[1][1][i][0][0]\n",
    "    t[i] = data_ImSeg[1][1][i][1][0]"
   ]
  },
  {
   "cell_type": "code",
   "execution_count": 6,
   "metadata": {},
   "outputs": [
    {
     "data": {
      "text/plain": [
       "[<matplotlib.lines.Line2D at 0x10f7394a8>]"
      ]
     },
     "execution_count": 6,
     "metadata": {},
     "output_type": "execute_result"
    },
    {
     "data": {
      "image/png": "[encoded data removed]",
      "text/plain": [
       "<matplotlib.figure.Figure at 0x10f64a5c0>"
      ]
     },
     "metadata": {},
     "output_type": "display_data"
    }
   ],
   "source": [
    "start = 1\n",
    "end = len(data_ImSeg[0][1])-1\n",
    "plot(y1[start:end], y0[start:end], 'bo')"
   ]
  },
  {
   "cell_type": "code",
   "execution_count": 7,
   "metadata": {},
   "outputs": [
    {
     "data": {
      "text/plain": [
       "[<matplotlib.lines.Line2D at 0x10ffc5b70>]"
      ]
     },
     "execution_count": 7,
     "metadata": {},
     "output_type": "execute_result"
    },
    {
     "data": {
      "image/png": "[encoded data removed]",
      "text/plain": [
       "<matplotlib.figure.Figure at 0x10f799080>"
      ]
     },
     "metadata": {},
     "output_type": "display_data"
    }
   ],
   "source": [
    "start = 1\n",
    "end = len(data_ImSeg[1][1])-1\n",
    "plot(t[start:end], f[start:end], 'bo')"
   ]
  },
  {
   "cell_type": "code",
   "execution_count": null,
   "metadata": {},
   "outputs": [],
   "source": []
  },
  {
   "cell_type": "code",
   "execution_count": null,
   "metadata": {},
   "outputs": [],
   "source": []
  },
  {
   "cell_type": "code",
   "execution_count": null,
   "metadata": {},
   "outputs": [],
   "source": []
  },
  {
   "cell_type": "code",
   "execution_count": null,
   "metadata": {},
   "outputs": [],
   "source": []
  },
  {
   "cell_type": "code",
   "execution_count": null,
   "metadata": {},
   "outputs": [],
   "source": []
  },
  {
   "cell_type": "code",
   "execution_count": null,
   "metadata": {},
   "outputs": [],
   "source": []
  },
  {
   "cell_type": "code",
   "execution_count": null,
   "metadata": {},
   "outputs": [],
   "source": []
  },
  {
   "cell_type": "code",
   "execution_count": null,
   "metadata": {},
   "outputs": [],
   "source": []
  },
  {
   "cell_type": "code",
   "execution_count": 20,
   "metadata": {},
   "outputs": [
    {
     "name": "stdout",
     "output_type": "stream",
     "text": [
      "[(4000, 1800), (2000, 900), (1000, 450), (500, 225), (250, 112), (125, 56), (62, 28), (31, 14)]\n",
      "[1, 0.5, 0.25, 0.125, 0.0625, 0.03125, 0.015625, 0.0078125]\n"
     ]
    }
   ],
   "source": [
    "import copy\n",
    "im_width = 4000\n",
    "im_height = 1800\n",
    "num_pix = im_width*im_height\n",
    "\n",
    "resize_min_num_pix = 200\n",
    "resize_ratio = 0.5\n",
    "\n",
    "resize_dims_list = list()\n",
    "resize_ratio_list = list()\n",
    "\n",
    "resize_dims_list.append((im_width, im_height))\n",
    "resize_ratio_list.append(1)\n",
    "resize_ratio_list.append(resize_ratio)\n",
    "\n",
    "num_pix_temp = resize_dims_list[-1][0]*resize_dims_list[-1][1]\n",
    "\n",
    "while ( num_pix_temp >= resize_min_num_pix):\n",
    "    im_size_resize = (int(round(resize_ratio*resize_dims_list[-1][0])), \\\n",
    "                      int(round(resize_ratio*resize_dims_list[-1][1])))\n",
    "    resize_dims_list.append(im_size_resize)\n",
    "    resize_ratio_list.append(resize_ratio**(len(resize_dims_list)))\n",
    "    num_pix_temp = num_pix * (resize_ratio_list[-1]**2)\n",
    "resize_ratio_list.pop()\n",
    "print(resize_dims_list)\n",
    "print(resize_ratio_list)\n",
    "\n",
    "\n"
   ]
  },
  {
   "cell_type": "code",
   "execution_count": null,
   "metadata": {},
   "outputs": [],
   "source": []
  },
  {
   "cell_type": "code",
   "execution_count": 8,
   "metadata": {},
   "outputs": [],
   "source": [
    "import numpy as np\n",
    "iter_data = (np.zeros((100,0)), np.zeros((5,0)), , ())"
   ]
  },
  {
   "cell_type": "code",
   "execution_count": null,
   "metadata": {},
   "outputs": [],
   "source": []
  },
  {
   "cell_type": "code",
   "execution_count": 31,
   "metadata": {},
   "outputs": [],
   "source": [
    "v = list()"
   ]
  },
  {
   "cell_type": "code",
   "execution_count": 32,
   "metadata": {},
   "outputs": [],
   "source": [
    "v.append(np.random.rand(100,1))"
   ]
  },
  {
   "cell_type": "code",
   "execution_count": null,
   "metadata": {},
   "outputs": [],
   "source": []
  },
  {
   "cell_type": "code",
   "execution_count": null,
   "metadata": {},
   "outputs": [],
   "source": []
  },
  {
   "cell_type": "code",
   "execution_count": null,
   "metadata": {},
   "outputs": [],
   "source": []
  },
  {
   "cell_type": "code",
   "execution_count": null,
   "metadata": {},
   "outputs": [],
   "source": []
  },
  {
   "cell_type": "code",
   "execution_count": null,
   "metadata": {},
   "outputs": [],
   "source": []
  },
  {
   "cell_type": "code",
   "execution_count": null,
   "metadata": {},
   "outputs": [],
   "source": [
    "im_width = 3890\n",
    "im_height = 1275\n",
    "num_pix_full = im_width*im_height\n",
    "\n",
    "rescale_size_tiny = 1500\n",
    "rescale_size_med = 5000\n",
    "\n",
    "# Check if pic at least 2(?) x rescale size!\n",
    "\n",
    "rescale_ratio_tiny = 1/(np.sqrt(num_pix_full/rescale_size_tiny))\n",
    "rescale_ratio_med = 1/(np.sqrt(num_pix_full/rescale_size_med))\n",
    "\n",
    "im_size_tiny = (round(rescale_ratio_tiny*im_width), \\\n",
    "                round(rescale_ratio_tiny*im_height))\n",
    "im_size_med = (round(rescale_ratio_med*im_width), \\\n",
    "               round(rescale_ratio_med*im_height))\n",
    "\n",
    "#double_size = (im.size[0]*2, im.size[1]*2)\n",
    "#larger_im = im.resize(double_size)\n",
    "#larger_im.save(\"bigger.sample3.png\")"
   ]
  },
  {
   "cell_type": "code",
   "execution_count": null,
   "metadata": {},
   "outputs": [],
   "source": []
  },
  {
   "cell_type": "code",
   "execution_count": 2,
   "metadata": {},
   "outputs": [],
   "source": [
    "from PIL import Image\n",
    "im_RGB = Image.open(im_path)"
   ]
  },
  {
   "cell_type": "code",
   "execution_count": null,
   "metadata": {
    "scrolled": false
   },
   "outputs": [],
   "source": []
  },
  {
   "cell_type": "code",
   "execution_count": 38,
   "metadata": {},
   "outputs": [],
   "source": [
    "im_RGB.getpalette()"
   ]
  },
  {
   "cell_type": "code",
   "execution_count": 16,
   "metadata": {},
   "outputs": [
    {
     "data": {
      "text/plain": [
       "(142, 88)"
      ]
     },
     "execution_count": 16,
     "metadata": {},
     "output_type": "execute_result"
    }
   ],
   "source": [
    "im_size_tiny = (int(im_size[0]/2), int(im_size[1]/2))\n",
    "im_size_tiny"
   ]
  },
  {
   "cell_type": "code",
   "execution_count": null,
   "metadata": {},
   "outputs": [],
   "source": []
  },
  {
   "cell_type": "code",
   "execution_count": 19,
   "metadata": {},
   "outputs": [
    {
     "data": {
      "image/png": "[encoded data removed]",
      "text/plain": [
       "<PIL.Image.Image image mode=RGB size=284x177 at 0x10FFDFF28>"
      ]
     },
     "execution_count": 19,
     "metadata": {},
     "output_type": "execute_result"
    }
   ],
   "source": [
    "im_RGB_lossy = im_RGB_tiny.resize(im_size, Image.ANTIALIAS)\n",
    "im_RGB_lossy"
   ]
  },
  {
   "cell_type": "code",
   "execution_count": null,
   "metadata": {},
   "outputs": [],
   "source": []
  },
  {
   "cell_type": "code",
   "execution_count": null,
   "metadata": {},
   "outputs": [],
   "source": []
  },
  {
   "cell_type": "code",
   "execution_count": null,
   "metadata": {},
   "outputs": [],
   "source": []
  },
  {
   "cell_type": "code",
   "execution_count": 1,
   "metadata": {
    "scrolled": false
   },
   "outputs": [
    {
     "name": "stdout",
     "output_type": "stream",
     "text": [
      "Generating random test SDP\n",
      "Solving test SDP with SDPSubspaceSolver\n",
      "\n",
      "\n",
      "SDPSubspaceSolver called with eigenvalue solver eigsh and SDP solver cvx\n",
      "    |                                         | Runtime Ratios | \n",
      " it | probj        dures    prres    dugap    | eig  SDP  main | eigtol   prdim  time\n",
      "  0 | 3.26901e-03 -1.00e+00 7.88e-08 1.50e-09 | 0.83 0.15 0.02 | 1.0e-08     4   0.16\n",
      "  1 | 1.69765e-03 -3.39e-01 1.59e-09 4.11e-11 | 0.62 0.30 0.08 | 1.0e-10     6   0.03\n",
      "  2 | 1.40225e-03 -1.94e-01 2.28e-08 1.18e-09 | 0.53 0.38 0.08 | 1.0e-12     8   0.03\n",
      "  3 | 1.33493e-03 -5.99e-03 1.55e-09 1.26e-10 | 0.55 0.40 0.05 | 1.0e-14    10   0.05\n",
      "  4 | 1.33483e-03 -7.69e-06 2.13e-09 1.79e-10 | 0.53 0.41 0.06 | 1.0e-14    12   0.05\n",
      "  5 | 1.33483e-03  1.71e-09 6.81e-10 7.49e-11 | 0.51 0.43 0.07 | 1.0e-14    14   0.06\n",
      "\n",
      "EXIT -- Optimal solution found.\n",
      "\n",
      "Total runtime   :   0.39\n",
      "Num eig calls   :   9\n",
      "\n",
      "\n",
      "NewtonSolver called with eigenvalue solver eigsh\n",
      "    |                                N-step | Runtime Ratios | \n",
      " it |  probj       prres    dugap   try take| eig  Ax=b main | eigtol     time\n",
      "  0 |  5.79602e+01 1.52e+01 5.50e+01  N   N | 0.98 0.00 0.02 | 1.0e-08    0.03\n",
      "  1 | -1.25597e-01 1.43e+00 1.96e-01  N   N | 1.00 0.00 0.00 | 1.0e-10    0.43\n",
      "  2 | -3.44453e+00 2.79e+02 5.75e+00  Y   Y | 0.91 0.06 0.03 | 1.0e-12    0.02\n",
      "  3 | -3.34018e-03 9.46e-01 3.63e-02  Y   Y | 1.00 0.00 0.00 | 1.0e-14    1.93\n",
      "  4 |  1.03258e-03 3.07e-02 6.99e-04  Y   Y | 1.00 0.00 0.00 | 1.0e-14    0.60\n",
      "  5 |  1.22370e-03 1.51e-02 2.09e-04  Y   Y | 0.99 0.00 0.00 | 1.0e-14    0.39\n",
      "  6 |  1.12187e-03 2.53e-01 6.88e-04  Y   Y | 0.99 0.00 0.00 | 1.0e-14    0.29\n",
      "  7 |  1.22450e-03 1.10e-01 2.31e-04  Y   Y | 0.99 0.00 0.00 | 1.0e-14    0.28\n",
      "  8 |  1.28626e-03 4.60e-02 5.74e-05  Y   Y | 0.99 0.01 0.00 | 1.0e-14    0.26\n",
      "  9 |  1.31904e-03 1.79e-02 2.49e-06  Y   Y | 0.99 0.00 0.01 | 1.0e-14    0.27\n",
      " 10 |  1.33202e-03 5.70e-03 5.94e-06  Y   Y | 0.99 0.01 0.00 | 1.0e-14    0.28\n",
      " 11 |  1.33469e-03 1.11e-03 2.06e-06  Y   Y | 0.99 0.01 0.00 | 1.0e-14    0.25\n",
      " 12 |  1.33483e-03 6.19e-05 1.31e-07  Y   Y | 0.99 0.01 0.00 | 1.0e-14    0.26\n",
      " 13 |  1.33483e-03 2.18e-07 4.65e-10  Y   Y | 0.99 0.01 0.00 | 1.0e-14    0.24\n",
      " 14 |  1.33483e-03 2.74e-12 3.86e-14  N   N | 0.99 0.00 0.01 | 1.0e-14    0.17\n",
      "\n",
      "EXIT -- Optimal solution found.\n",
      "\n",
      "Total runtime     :   5.70\n",
      "Num eig calls     :   16\n",
      "Num Ax=b solves   :   12\n",
      "\n",
      "\n",
      "Computing residuals for experiments\n",
      "\n",
      "         | primal residual |  dual residual  |  duality gap   | runtime secs\n",
      "  SDPSS  |    6.807e-10    |    1.632e-10    |   7.492e-11    |         0.39\n",
      " Newton  |    6.807e-10    |    1.632e-10    |   7.492e-11    |         0.39\n"
     ]
    }
   ],
   "source": [
    "# Run SDP Test\n",
    "\n",
    "import sys\n",
    "import os\n",
    "import numpy as np\n",
    "#print(os.getcwd())\n",
    "sys.path.append(os.getcwd() + \"/test\")\n",
    "#print(sys.path)\n",
    "\n",
    "seed_num = 2\n",
    "pr_dim_update = []\n",
    "cvx_tol_scale=1e-2\n",
    "cvx_verbose = False\n",
    "\n",
    "run_cvx_on_full_SDP = False\n",
    "\n",
    "run_Newton_solver = True\n",
    "use_Newton_step = True\n",
    "eig_solver_Newton = \"eigsh\"\n",
    "#eig_solver_Newton = \"lobpcg\"\n",
    "\n",
    "eig_solver = \"eigsh\"\n",
    "#eig_solver = \"lobpcg\"\n",
    "import runtestSDPSS\n",
    "(X, y, A, b, C, X_SDPSS_sub, V_SDPSS_sub, y_SDPSS) \\\n",
    "= runtestSDPSS.main(n = 150, m = 2, cvx_verbose=cvx_verbose, \\\n",
    "                    cvx_tol_scale=cvx_tol_scale, \\\n",
    "                    eig_solver = eig_solver, eig_solver_Newton = eig_solver_Newton, \\\n",
    "                    run_cvx_on_full_SDP=run_cvx_on_full_SDP, \\\n",
    "                    seed_num=seed_num, pr_dim_update=pr_dim_update, \\\n",
    "                    run_Newton_solver = run_Newton_solver, \\\n",
    "                    use_Newton_step = use_Newton_step)"
   ]
  },
  {
   "cell_type": "code",
   "execution_count": null,
   "metadata": {},
   "outputs": [],
   "source": [
    "type(A[0])\n",
    "A1 = sp.sparse.csr_matrix(A[0])\n",
    "type(A1)\n",
    "type(A[1])\n",
    "A2 = sp.sparse.csr_matrix(A[1])\n",
    "type(A2)"
   ]
  },
  {
   "cell_type": "code",
   "execution_count": null,
   "metadata": {},
   "outputs": [],
   "source": [
    "Atall = sp.sparse.vstack( [A1, A2] )\n",
    "Atall.shape"
   ]
  },
  {
   "cell_type": "code",
   "execution_count": null,
   "metadata": {},
   "outputs": [],
   "source": []
  },
  {
   "cell_type": "code",
   "execution_count": null,
   "metadata": {},
   "outputs": [],
   "source": []
  },
  {
   "cell_type": "code",
   "execution_count": null,
   "metadata": {},
   "outputs": [],
   "source": []
  },
  {
   "cell_type": "code",
   "execution_count": null,
   "metadata": {},
   "outputs": [],
   "source": [
    "import numpy as np\n",
    "import scipy as sp\n",
    "from scipy.sparse.linalg import lobpcg\n",
    "from scipy.sparse.linalg import eigsh\n",
    "from scipy.sparse import identity\n",
    "import time\n"
   ]
  },
  {
   "cell_type": "code",
   "execution_count": null,
   "metadata": {},
   "outputs": [],
   "source": []
  },
  {
   "cell_type": "code",
   "execution_count": null,
   "metadata": {},
   "outputs": [],
   "source": []
  },
  {
   "cell_type": "code",
   "execution_count": null,
   "metadata": {},
   "outputs": [],
   "source": [
    "#[d, V] = eigsh(A, k = num_eigs, sigma = sigma, \n",
    "#               which = 'SA', tol = eigs_tol, maxiter=eigs_maxiters)\n",
    "# eigsh(A, k=6, M=None, sigma=None, which='LM', \n",
    "#       v0=None, ncv=None, maxiter=None, tol=0, \n",
    "#       return_eigenvectors=True, Minv=None, OPinv=None, mode='normal')\n",
    "i = 4;\n",
    "num_eigs = 1 # 1\n",
    "bk_sz = 40 # 20\n",
    "sigma = None # None\n",
    "eigs_tol = 1e-3 # 1e-6\n",
    "maxiter = 20000 # 2000\n",
    "v0 = v_prev # None\n",
    "shift_mat = False\n",
    "shift_val = np.float(-0.490)\n",
    "\n",
    "if shift_mat:\n",
    "    n = M[0].shape[0]\n",
    "    t = shift_val\n",
    "    S = t*identity(n, dtype='float64', format='csc')\n",
    "    A = M[i] + S\n",
    "else:\n",
    "    A = M[i]\n",
    "\n",
    "time_start = time.time()\n",
    "[d, V] = eigsh(A, k = num_eigs, ncv = bk_sz, sigma = sigma, \\\n",
    "               which = 'SA', tol = eigs_tol, maxiter=maxiter, \\\n",
    "               v0=v0)\n",
    "run_time = time.time() - time_start"
   ]
  },
  {
   "cell_type": "code",
   "execution_count": null,
   "metadata": {},
   "outputs": [],
   "source": [
    "de = min(d)\n",
    "if shift_mat:\n",
    "    de = de - np.float(shift_val)\n",
    "[de, run_time]"
   ]
  },
  {
   "cell_type": "code",
   "execution_count": null,
   "metadata": {},
   "outputs": [],
   "source": [
    "#[d, V] = lobpcg(A, X, B=None, M=None, Y=None, tol=None, maxiter=20, \n",
    "#                largest=True, verbosityLevel=0, \n",
    "#                retLambdaHistory=False, retResidualNormsHistory=False)\n",
    "\n",
    "tol_l = 1e-6\n",
    "maxiter_l = 10000\n",
    "\n",
    "time_start = time.time()\n",
    "[dl, Vl] = lobpcg(A, v_prev, B=None, M=None, Y=None, tol=tol_l, maxiter=maxiter_l, \\\n",
    "                largest=False, verbosityLevel=0, \\\n",
    "                retLambdaHistory=False, retResidualNormsHistory=False)\n",
    "run_time = time.time() - time_start"
   ]
  },
  {
   "cell_type": "code",
   "execution_count": null,
   "metadata": {},
   "outputs": [],
   "source": []
  },
  {
   "cell_type": "code",
   "execution_count": null,
   "metadata": {},
   "outputs": [],
   "source": []
  },
  {
   "cell_type": "code",
   "execution_count": null,
   "metadata": {},
   "outputs": [],
   "source": [
    "# Fixing SDPSS\n",
    "sys.path.append(os.getcwd() + \"/test\")\n",
    "from SDPSubspaceSolver import *\n",
    "[X_SDPSS_sub, V_SDPSS_sub, y_SDPSS, time_total, M] \\\n",
    "    = SDPSubspaceSolver(A, b, C, eigsh_tol=1e-10, \\\n",
    "                        eigsh_tol_update=1e-2, eigsh_tol_min=1e-14, \\\n",
    "                        eigsh_maxiters = 20000, cvx_verbose=False)"
   ]
  },
  {
   "cell_type": "code",
   "execution_count": null,
   "metadata": {},
   "outputs": [],
   "source": [
    "sys.path.append(os.getcwd() + \"/src/util\")\n",
    "from ComputeAadjoint import *\n",
    "from scipy.sparse.linalg import eigsh\n",
    "#pr_res_SDPSS = np.linalg.norm(ComputeAforward(A,X_SDPSS) - b)\n",
    "Aty_SDPSS = ComputeAadjoint(A,y_SDPSS)\n",
    "[du_res_SDPSS, V] = eigsh(C-Aty_SDPSS, k = 1, which = 'SA', tol = 1e-14, maxiter=20000)\n",
    "#pr_obj = np.tensordot(C,X_SDPSS,2)\n",
    "#du_obj = np.tensordot(b,y_SDPSS,2)\n",
    "#gap_res_SDPSS = pr_obj - du_obj # must be >= 0 if pr and du feasible\n",
    "du_res_SDPSS"
   ]
  },
  {
   "cell_type": "code",
   "execution_count": null,
   "metadata": {},
   "outputs": [],
   "source": []
  },
  {
   "cell_type": "code",
   "execution_count": null,
   "metadata": {},
   "outputs": [],
   "source": [
    "import numpy as np\n",
    "n = 4000\n",
    "m = 4000\n",
    "A = np.random.rand(m,n)\n",
    "b = np.random.rand(m,1)"
   ]
  },
  {
   "cell_type": "code",
   "execution_count": null,
   "metadata": {},
   "outputs": [],
   "source": [
    "x_lu = np.linalg.solve(A, b)\n",
    "np.linalg.norm(A.dot(x_lu) - b)"
   ]
  },
  {
   "cell_type": "code",
   "execution_count": null,
   "metadata": {},
   "outputs": [],
   "source": [
    "AtA = A.transpose().dot(A)\n",
    "Atb = A.transpose().dot(b)\n",
    "from scipy.sparse.linalg import cg"
   ]
  },
  {
   "cell_type": "code",
   "execution_count": null,
   "metadata": {},
   "outputs": [],
   "source": [
    "cg_tol = 1e-16\n",
    "cg_maxiter = round(n/10)\n",
    "x_cg_temp = cg(AtA, Atb, tol=cg_tol, maxiter=cg_maxiter)\n",
    "x_cg = np.reshape(x_cg_temp[0], (n,1))\n",
    "np.linalg.norm(A.dot(x_cg) - b) / np.linalg.norm(b)"
   ]
  },
  {
   "cell_type": "code",
   "execution_count": null,
   "metadata": {},
   "outputs": [],
   "source": []
  },
  {
   "cell_type": "code",
   "execution_count": null,
   "metadata": {},
   "outputs": [],
   "source": [
    "from tkinter import *\n",
    "\n",
    "root = Tk()\n",
    "\n",
    "def key(event):\n",
    "    print(\"pressed\", repr(event.char))\n",
    "\n",
    "def callback(event):\n",
    "    frame.focus_set()\n",
    "    print(\"clicked at\", event.x, event.y)\n",
    "\n",
    "frame = Frame(root, width=100, height=100)\n",
    "frame.bind(\"<Key>\", key)\n",
    "frame.bind(\"<Button-1>\", callback)\n",
    "frame.pack()\n",
    "\n",
    "root.mainloop()"
   ]
  },
  {
   "cell_type": "code",
   "execution_count": null,
   "metadata": {},
   "outputs": [],
   "source": [
    "# Compares `eigsh` with `lobpcg`\n",
    "import numpy as np\n",
    "import scipy as sp\n",
    "from scipy.sparse import spdiags\n",
    "from scipy.sparse.linalg import eigsh\n",
    "from scipy.sparse.linalg import lobpcg\n",
    "from scipy.linalg import orth\n",
    "def get_rand_sym_mat(n, is_PD=True):\n",
    "    U = orth(np.random.rand(n,n))\n",
    "#    np.matmul(np.matmul(V_sub.transpose(),C),V_sub)\n",
    "    D = np.diag(np.random.rand(n)) + np.ones((n))\n",
    "    M = np.matmul(np.matmul(U,D), U.transpose())\n",
    "    M = M + M.transpose()\n",
    "    return M"
   ]
  }
 ],
 "metadata": {
  "kernelspec": {
   "display_name": "Python 3",
   "language": "python",
   "name": "python3"
  },
  "language_info": {
   "codemirror_mode": {
    "name": "ipython",
    "version": 3
   },
   "file_extension": ".py",
   "mimetype": "text/x-python",
   "name": "python",
   "nbconvert_exporter": "python",
   "pygments_lexer": "ipython3",
   "version": "3.6.5"
  }
 },
 "nbformat": 4,
 "nbformat_minor": 2
}
