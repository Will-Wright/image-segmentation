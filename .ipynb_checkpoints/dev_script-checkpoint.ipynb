{
 "cells": [
  {
   "cell_type": "code",
   "execution_count": 1,
   "metadata": {
    "scrolled": false
   },
   "outputs": [
    {
     "name": "stdout",
     "output_type": "stream",
     "text": [
      "ImSeg demo called.  Displaying full-size demo image.\n",
      "To view must-link constraints, hover mouse over image and press <Return>.\n",
      "To continue demo, hover over image and press <Return> again.\n",
      "Running experiment 1 of 15 with image size (19, 14)\n",
      "Running experiment 2 of 15 with image size (23, 18)\n",
      "Running experiment 3 of 15 with image size (29, 22)\n",
      "Running experiment 4 of 15 with image size (37, 28)\n",
      "Running experiment 5 of 15 with image size (46, 34)\n",
      "Running experiment 6 of 15 with image size (57, 43)\n",
      "Running experiment 7 of 15 with image size (71, 54)\n",
      "Running experiment 8 of 15 with image size (89, 67)\n",
      "Running experiment 9 of 15 with image size (112, 84)\n",
      "Running experiment 10 of 15 with image size (140, 105)\n",
      "Running experiment 11 of 15 with image size (174, 131)\n",
      "Running experiment 12 of 15 with image size (218, 164)\n",
      "Running experiment 13 of 15 with image size (273, 205)\n",
      "Running experiment 14 of 15 with image size (341, 257)\n",
      "Running experiment 15 of 15 with image size (426, 321)\n"
     ]
    }
   ],
   "source": [
    "import RunDemo\n",
    "data=RunDemo.main()"
   ]
  },
  {
   "cell_type": "code",
   "execution_count": 2,
   "metadata": {},
   "outputs": [],
   "source": [
    "import matplotlib.pyplot as plt\n",
    "import numpy as np\n",
    "from PIL import Image, ImageTk\n"
   ]
  },
  {
   "cell_type": "code",
   "execution_count": 3,
   "metadata": {},
   "outputs": [],
   "source": [
    "SDPSS_time = data['SDPSS_time']\n",
    "NES_time = data['NES_time']\n",
    "num_pixels = data['num_pixels']\n",
    "SDPSS_eig_calls = data['SDPSS_eig_calls']\n",
    "NES_eig_calls = data['NES_eig_calls']\n",
    "im_seg_RGB_arr = data['im_seg_RGB_arr']\n"
   ]
  },
  {
   "cell_type": "code",
   "execution_count": 4,
   "metadata": {},
   "outputs": [
    {
     "data": {
      "image/png": "[encoded data removed]",
      "text/plain": [
       "<matplotlib.figure.Figure at 0x11296ecc0>"
      ]
     },
     "metadata": {},
     "output_type": "display_data"
    }
   ],
   "source": [
    "# Saves figure of performance comparison \n",
    "fig = plt.figure()\n",
    "fig.canvas.draw()\n",
    "ax = fig.add_subplot(111)\n",
    "plt.plot(num_pixels, NES_time, 'r--', label='Newton')\n",
    "plt.plot(num_pixels, SDPSS_time, 'b', label='SDP-Subspace')\n",
    "\n",
    "fig.suptitle('SDPSS vs Newton for various sized images')\n",
    "plt.xlabel('Number pixels (x1000)')\n",
    "plt.ylabel('Runtime (secs)')\n",
    "plt.legend()\n",
    "\n",
    "labels=ax.get_xticks().tolist()\n",
    "labels = [np.int16(l/1000) for l in labels]\n",
    "ax.set_xticklabels(labels)\n",
    "plt.savefig('demo_fig1.png')"
   ]
  },
  {
   "cell_type": "code",
   "execution_count": 5,
   "metadata": {},
   "outputs": [
    {
     "data": {
      "text/plain": [
       "array([[   266.],\n",
       "       [   414.],\n",
       "       [   638.],\n",
       "       [  1036.],\n",
       "       [  1564.],\n",
       "       [  2451.],\n",
       "       [  3834.],\n",
       "       [  5963.],\n",
       "       [  9408.],\n",
       "       [ 14700.],\n",
       "       [ 22794.],\n",
       "       [ 35752.],\n",
       "       [ 55965.],\n",
       "       [ 87637.],\n",
       "       [136746.]])"
      ]
     },
     "execution_count": 5,
     "metadata": {},
     "output_type": "execute_result"
    }
   ],
   "source": [
    "num_pixels"
   ]
  },
  {
   "cell_type": "code",
   "execution_count": null,
   "metadata": {},
   "outputs": [],
   "source": []
  },
  {
   "cell_type": "code",
   "execution_count": 5,
   "metadata": {},
   "outputs": [],
   "source": [
    "im_seg_RGB = Image.fromarray(im_seg_RGB_arr)"
   ]
  },
  {
   "cell_type": "code",
   "execution_count": 7,
   "metadata": {},
   "outputs": [],
   "source": [
    "im_seg_RGB.show(title=\"Newton Image\")"
   ]
  },
  {
   "cell_type": "code",
   "execution_count": null,
   "metadata": {},
   "outputs": [],
   "source": []
  },
  {
   "cell_type": "code",
   "execution_count": null,
   "metadata": {},
   "outputs": [],
   "source": []
  },
  {
   "cell_type": "code",
   "execution_count": null,
   "metadata": {},
   "outputs": [],
   "source": []
  },
  {
   "cell_type": "code",
   "execution_count": null,
   "metadata": {},
   "outputs": [],
   "source": []
  },
  {
   "cell_type": "code",
   "execution_count": 12,
   "metadata": {
    "scrolled": false
   },
   "outputs": [
    {
     "name": "stdout",
     "output_type": "stream",
     "text": [
      "Must-link pixels passed by user.\n",
      "Click on image to see pixels.\n",
      "Click on image again to continue.\n",
      "Image segmentation (NCuts) called with link constraints\n",
      "   for image of size (426, 321)\n",
      "GetConstraintNullspace time  :  0.01\n",
      "GetAdjMat time               :  2.38\n",
      "\n",
      "SDPSubspaceSolver called with eigenvalue solver lobpcg and SDP solver cvx\n",
      "    |                                         | Runtime Ratios | \n",
      " it | probj        dures    prres    dugap    | eig  SDP  main | eigtol   prdim  time |  y[0]         y[1]\n",
      "  0 | 2.40505e-03 -1.00e+00 2.22e-16 2.91e-10 | 0.00 0.05 0.95 | 1.0e-04     2   0.09 |  2.40505e-03  3.28275e+02\n",
      "  1 | 1.93116e-03 -1.60e+00 8.88e-16 2.13e-11 | 0.86 0.01 0.12 | 1.0e-04     3   0.95 |  1.93116e-03  2.63473e+02\n",
      "  2 | 1.33646e-03 -2.79e-01 4.44e-16 1.01e-10 | 0.93 0.01 0.06 | 1.0e-04     4   1.93 |  1.33646e-03  1.82149e+02\n",
      "  3 | 3.70324e-04 -4.15e-02 1.33e-15 2.28e-11 | 0.97 0.00 0.03 | 1.0e-04     5   4.61 |  3.70324e-04  5.00367e+01\n",
      "  4 | 5.43655e-05 -5.26e-03 1.55e-15 4.72e-12 | 0.98 0.00 0.01 | 1.0e-04     6  13.70 |  5.43655e-05  6.83008e+00\n",
      "  5 | 2.77022e-05 -3.82e-04 4.44e-16 5.38e-12 | 0.99 0.00 0.01 | 1.0e-04     7  17.80 |  2.77021e-05  2.27406e+01\n",
      "  6 | 2.74015e-05 -4.83e-06 3.33e-15 2.50e-11 | 0.98 0.00 0.02 | 1.0e-04     8   9.57 |  2.74015e-05  1.99072e+01\n",
      "\n",
      "EXIT -- Optimal solution found.\n",
      "\n",
      "Total runtime   :   48.64\n",
      "Num eig calls   :   6\n",
      "\n",
      "\n",
      "[-7.31271303e-06] [[8.27695115e-06]] [0.00286436] [[0.94270397]]\n",
      "NewtonSolver called with eigenvalue solver eigsh\n",
      "    |                                N-step | Runtime Ratios |                 | \n",
      " it |  probj       prres    dugap   try take| eig  Ax=b main | eigtol     time |  f            t\n",
      "  0 |  2.40885e-03 8.87e-01 8.87e-01  N   N | 0.99 0.00 0.01 | 1.0e-04    8.34 |  2.40885e-03 -3.28274e+02\n",
      "  1 | -9.54093e-02 1.90e-03 6.24e-01  N   N | 0.97 0.00 0.03 | 1.0e-04    0.88 | -9.54093e-02 -2.77026e+02\n",
      "  2 | -2.53421e-02 7.84e-04 2.17e-01  N   N | 0.99 0.00 0.01 | 1.0e-04    1.48 | -2.53421e-02 -2.42448e+02\n",
      "  3 | -8.29864e-03 2.74e-04 6.64e-02  N   N | 0.99 0.00 0.01 | 1.0e-04    2.07 | -8.29864e-03 -2.06577e+02\n",
      "  4 | -2.54860e-03 8.28e-05 1.71e-02  N   N | 1.00 0.00 0.00 | 1.0e-04    4.25 | -2.54860e-03 -1.61455e+02\n",
      "  5 | -6.10107e-04 1.92e-05 3.10e-03  N   N | 1.00 0.00 0.00 | 1.0e-04    9.76 | -6.10107e-04 -9.35527e+01\n",
      "  6 | -4.30684e-05 2.70e-06 2.52e-04  N   N | 1.00 0.00 0.00 | 1.0e-04   36.63 | -4.30684e-05 -2.00872e+01\n",
      "  7 |  2.73949e-05 1.21e-09 2.43e-08  N   N | 1.00 0.00 0.00 | 1.0e-04   84.13 |  2.73949e-05 -2.00872e+01\n",
      "\n",
      "EXIT -- Optimal solution found.\n",
      "\n",
      "Total runtime     :   147.54\n",
      "Num eig calls     :   9\n",
      "Num Ax=b solves   :   0\n",
      "\n",
      "\n"
     ]
    }
   ],
   "source": [
    "# Run ImSeg\n",
    "\n",
    "from ImSeg import ImSeg\n",
    "\n",
    "cvx_verbose = False\n",
    "\n",
    "sig_dist=4 # default: 3-5\n",
    "sig_feat=7 # default: 5-7\n",
    "max_dist=3 # default: 3-5\n",
    "\n",
    "use_RGB = True\n",
    "is_demo_mode=True\n",
    "\n",
    "verbosity=2\n",
    "\n",
    "#im_path = 'test/amoeba.jpg'\n",
    "#im_path = 'test/tree.jpeg'\n",
    "#im_path = 'test/tree_medium.jpeg'\n",
    "#im_path = 'test/tree_small.jpeg'\n",
    "#im_path = 'test/tree_tiny.jpeg'\n",
    "\n",
    "#im_path = 'test/person_walking_small.jpg'\n",
    "im_path = 'test/person_walking.jpg'\n",
    "\n",
    "attempt_resize=False\n",
    "resize_min_num_pix = 200\n",
    "resize_ratio = 0.5\n",
    "\n",
    "return_data = True\n",
    "\n",
    "eigsh_tol_init = 1e-4\n",
    "eigsh_tol_update = 5e-1\n",
    "eigsh_tol_min = 1e-4\n",
    "\n",
    "lobpcg_tol_init = 1e-4\n",
    "lobpcg_tol_update = 5e-1\n",
    "lobpcg_tol_min = 1e-4\n",
    "\n",
    "pr_tol=1e-5\n",
    "du_tol=1e-5\n",
    "gap_tol=1e-5\n",
    "\n",
    "#eig_solver = \"eigsh\"\n",
    "eig_solver = \"lobpcg\"\n",
    "SDPSS_max_iters = 20\n",
    "SDPSS_pr_update = 1\n",
    "\n",
    "use_NewtonEigSolver = True\n",
    "#use_NewtonEigSolver = False\n",
    "#use_Newton_step = True\n",
    "use_Newton_step = False\n",
    "Newton_max_iters = 20\n",
    "Newton_eig_solver=\"eigsh\"\n",
    "#Newton_eig_solver=\"lobpcg\"\n",
    "\n",
    "\n",
    "must_link_list1 = []; must_link_list2 = [];\n",
    "#must_link_list1 = must_link_list1; must_link_list2 = must_link_list2;\n",
    "\n",
    "#must_link_list1 = [[227, 102], [29, 125], [55, 65], [222, 20], [125, 55], [141, 108]]\n",
    "#must_link_list2 = [[71, 129], [105, 123], [132, 139], [197, 135], [235, 159], [243, 238], [160, 266], [23, 169], [34, 216], [42, 247], [154, 180], [107, 207], [156, 226]]\n",
    "\n",
    "# Small tree\n",
    "#must_link_list1 = [[59, 11], [42, 15], [31, 12]]\n",
    "#must_link_list2 = [[17, 17], [14, 33], [29, 33], [57, 32]]\n",
    "\n",
    "# Med tree\n",
    "#must_link_list1 = [[130, 32], [83, 21], [14, 11], [67, 32]]\n",
    "#must_link_list2 = [[37, 25], [33, 40], [26, 61], [25, 78], [95, 71], [120, 62]]\n",
    "\n",
    "# Full tree\n",
    "#must_link_list1 = [[258, 72], [169, 75], [144, 39], [39, 17], [19, 66]]\n",
    "#must_link_list2 = [[66, 44], [73, 68], [42, 158], [134, 138], [206, 108], [258, 157], [92, 124]]\n",
    "\n",
    "\n",
    "# PERSON WALKING SMALL\n",
    "#must_link_list1 = [[136, 24], [133, 73], [131, 112], [138, 146], [132, 130], [144, 101]]\n",
    "#must_link_list2 = [[97, 141], [102, 62], [82, 42], [61, 40], [60, 23], [106, 20],\n",
    "#                   [179, 64], [174, 130], [169, 15], [33, 20], [17, 85], [95, 28]]\n",
    "\n",
    "\n",
    "# PERSON WALKING \n",
    "must_link_list1 = [[273, 33], [279, 88], [235, 116], [265, 154], [318, 114], \n",
    "                   [281, 192], [264, 266], [275, 300]]\n",
    "must_link_list2 = [[222, 286], [164, 73], [127, 81], [36, 32], [40, 106], [34, 163],\n",
    "                   [227, 36], [378, 25], [394, 144], [391, 281], [217, 141], [335, 119]]\n",
    "\n",
    "#\n",
    "# TO-DOs:\n",
    "# - Fix 1/0 in NewtonSolver\n",
    "#\n",
    "\n",
    "\n",
    "[im_RGB_arr, adj_mat, must_link_list1, must_link_list2, \\\n",
    " X_sub, V_sub, im_seg_RGB_arr, im_RGB, N, data_ImSeg] \\\n",
    "    = ImSeg(im_path = im_path, \\\n",
    "            attempt_resize=attempt_resize, \\\n",
    "            return_data=return_data, \\\n",
    "            resize_min_num_pix=resize_min_num_pix, \\\n",
    "            resize_ratio=resize_ratio, \\\n",
    "             cvx_verbose=cvx_verbose, eig_solver = eig_solver, \\\n",
    "             pr_tol=pr_tol, du_tol=du_tol, gap_tol=gap_tol, \\\n",
    "             sig_dist=sig_dist, sig_feat=sig_feat, max_dist=max_dist, \\\n",
    "             eigsh_tol_init=eigsh_tol_init, \\\n",
    "             eigsh_tol_update=eigsh_tol_update, eigsh_tol_min=eigsh_tol_min, \\\n",
    "             lobpcg_tol_init=lobpcg_tol_init, \\\n",
    "             lobpcg_tol_update=lobpcg_tol_update, lobpcg_tol_min=lobpcg_tol_min, \\\n",
    "             SDPSS_max_iters=SDPSS_max_iters, SDPSS_pr_update=SDPSS_pr_update, \\\n",
    "             must_link_list1 = must_link_list1, must_link_list2 = must_link_list2, \\\n",
    "             use_RGB=use_RGB, \\\n",
    "             use_NewtonEigSolver=use_NewtonEigSolver, Newton_eig_solver=Newton_eig_solver, \\\n",
    "             use_Newton_step=use_Newton_step, Newton_max_iters=Newton_max_iters, \\\n",
    "             is_demo_mode=is_demo_mode, verbosity=verbosity);"
   ]
  },
  {
   "cell_type": "code",
   "execution_count": null,
   "metadata": {},
   "outputs": [],
   "source": []
  },
  {
   "cell_type": "code",
   "execution_count": 11,
   "metadata": {},
   "outputs": [],
   "source": [
    "im_seg_RGB_arr_2 = im_seg_RGB_arr"
   ]
  },
  {
   "cell_type": "code",
   "execution_count": null,
   "metadata": {},
   "outputs": [],
   "source": []
  },
  {
   "cell_type": "code",
   "execution_count": null,
   "metadata": {},
   "outputs": [],
   "source": [
    "\n",
    "        "
   ]
  },
  {
   "cell_type": "code",
   "execution_count": null,
   "metadata": {},
   "outputs": [],
   "source": []
  },
  {
   "cell_type": "code",
   "execution_count": null,
   "metadata": {},
   "outputs": [],
   "source": []
  },
  {
   "cell_type": "code",
   "execution_count": 8,
   "metadata": {},
   "outputs": [],
   "source": [
    "import numpy as np\n",
    "x = np.arange(10)\n",
    "y = np.sin(x)\n",
    "np.savez_compressed('text_file.npz', x=x, y=y)"
   ]
  },
  {
   "cell_type": "code",
   "execution_count": 9,
   "metadata": {},
   "outputs": [
    {
     "data": {
      "text/plain": [
       "True"
      ]
     },
     "execution_count": 9,
     "metadata": {},
     "output_type": "execute_result"
    }
   ],
   "source": [
    "os.path.exists('text_file.npz')"
   ]
  },
  {
   "cell_type": "code",
   "execution_count": 10,
   "metadata": {},
   "outputs": [
    {
     "name": "stdout",
     "output_type": "stream",
     "text": [
      "[0 1 2 3 4 5 6 7 8 9]\n"
     ]
    }
   ],
   "source": [
    "file = np.load('text_file.npz')\n",
    "print(file['x'])"
   ]
  },
  {
   "cell_type": "code",
   "execution_count": null,
   "metadata": {},
   "outputs": [],
   "source": []
  },
  {
   "cell_type": "code",
   "execution_count": null,
   "metadata": {},
   "outputs": [],
   "source": []
  },
  {
   "cell_type": "code",
   "execution_count": 4,
   "metadata": {},
   "outputs": [],
   "source": [
    "# This code plots (t,f) vals for SDPSS and NES\n",
    "#\n",
    "# Might help with developing a primal-dual method (!!!)\n",
    "#\n",
    "\n",
    "\n",
    "import matplotlib\n",
    "from matplotlib.pyplot import plot\n",
    "import numpy as np"
   ]
  },
  {
   "cell_type": "code",
   "execution_count": 5,
   "metadata": {},
   "outputs": [],
   "source": [
    "y0 = np.zeros((len(data_ImSeg[0][1]),1))\n",
    "y1 = np.zeros((len(data_ImSeg[0][1]),1))\n",
    "for i in range(0,len(data_ImSeg[0][1])):\n",
    "    y0[i] = data_ImSeg[0][1][i][0][0]\n",
    "    y1[i] = -data_ImSeg[0][1][i][1][0]\n",
    "\n",
    "f = np.zeros((len(data_ImSeg[1][1]),1))\n",
    "t = np.zeros((len(data_ImSeg[1][1]),1))\n",
    "for i in range(0,len(data_ImSeg[1][1])):\n",
    "    f[i] = data_ImSeg[1][1][i][0][0]\n",
    "    t[i] = data_ImSeg[1][1][i][1][0]"
   ]
  },
  {
   "cell_type": "code",
   "execution_count": 6,
   "metadata": {},
   "outputs": [
    {
     "data": {
      "text/plain": [
       "[<matplotlib.lines.Line2D at 0x10f7394a8>]"
      ]
     },
     "execution_count": 6,
     "metadata": {},
     "output_type": "execute_result"
    },
    {
     "data": {
      "image/png": "[encoded data removed]",
      "text/plain": [
       "<matplotlib.figure.Figure at 0x10f64a5c0>"
      ]
     },
     "metadata": {},
     "output_type": "display_data"
    }
   ],
   "source": [
    "start = 1\n",
    "end = len(data_ImSeg[0][1])-1\n",
    "plot(y1[start:end], y0[start:end], 'bo')"
   ]
  },
  {
   "cell_type": "code",
   "execution_count": 7,
   "metadata": {},
   "outputs": [
    {
     "data": {
      "text/plain": [
       "[<matplotlib.lines.Line2D at 0x10ffc5b70>]"
      ]
     },
     "execution_count": 7,
     "metadata": {},
     "output_type": "execute_result"
    },
    {
     "data": {
      "image/png": "[encoded data removed]",
      "text/plain": [
       "<matplotlib.figure.Figure at 0x10f799080>"
      ]
     },
     "metadata": {},
     "output_type": "display_data"
    }
   ],
   "source": [
    "start = 1\n",
    "end = len(data_ImSeg[1][1])-1\n",
    "plot(t[start:end], f[start:end], 'bo')"
   ]
  },
  {
   "cell_type": "code",
   "execution_count": null,
   "metadata": {},
   "outputs": [],
   "source": []
  },
  {
   "cell_type": "code",
   "execution_count": null,
   "metadata": {},
   "outputs": [],
   "source": []
  },
  {
   "cell_type": "code",
   "execution_count": null,
   "metadata": {},
   "outputs": [],
   "source": []
  },
  {
   "cell_type": "code",
   "execution_count": null,
   "metadata": {},
   "outputs": [],
   "source": []
  },
  {
   "cell_type": "code",
   "execution_count": null,
   "metadata": {},
   "outputs": [],
   "source": []
  },
  {
   "cell_type": "code",
   "execution_count": null,
   "metadata": {},
   "outputs": [],
   "source": []
  },
  {
   "cell_type": "code",
   "execution_count": null,
   "metadata": {},
   "outputs": [],
   "source": []
  },
  {
   "cell_type": "code",
   "execution_count": null,
   "metadata": {},
   "outputs": [],
   "source": []
  },
  {
   "cell_type": "code",
   "execution_count": 20,
   "metadata": {},
   "outputs": [
    {
     "name": "stdout",
     "output_type": "stream",
     "text": [
      "[(4000, 1800), (2000, 900), (1000, 450), (500, 225), (250, 112), (125, 56), (62, 28), (31, 14)]\n",
      "[1, 0.5, 0.25, 0.125, 0.0625, 0.03125, 0.015625, 0.0078125]\n"
     ]
    }
   ],
   "source": [
    "import copy\n",
    "im_width = 4000\n",
    "im_height = 1800\n",
    "num_pix = im_width*im_height\n",
    "\n",
    "resize_min_num_pix = 200\n",
    "resize_ratio = 0.5\n",
    "\n",
    "resize_dims_list = list()\n",
    "resize_ratio_list = list()\n",
    "\n",
    "resize_dims_list.append((im_width, im_height))\n",
    "resize_ratio_list.append(1)\n",
    "resize_ratio_list.append(resize_ratio)\n",
    "\n",
    "num_pix_temp = resize_dims_list[-1][0]*resize_dims_list[-1][1]\n",
    "\n",
    "while ( num_pix_temp >= resize_min_num_pix):\n",
    "    im_size_resize = (int(round(resize_ratio*resize_dims_list[-1][0])), \\\n",
    "                      int(round(resize_ratio*resize_dims_list[-1][1])))\n",
    "    resize_dims_list.append(im_size_resize)\n",
    "    resize_ratio_list.append(resize_ratio**(len(resize_dims_list)))\n",
    "    num_pix_temp = num_pix * (resize_ratio_list[-1]**2)\n",
    "resize_ratio_list.pop()\n",
    "print(resize_dims_list)\n",
    "print(resize_ratio_list)\n",
    "\n",
    "\n"
   ]
  },
  {
   "cell_type": "code",
   "execution_count": null,
   "metadata": {},
   "outputs": [],
   "source": []
  },
  {
   "cell_type": "code",
   "execution_count": 8,
   "metadata": {},
   "outputs": [],
   "source": [
    "import numpy as np\n",
    "iter_data = (np.zeros((100,0)), np.zeros((5,0)), , ())"
   ]
  },
  {
   "cell_type": "code",
   "execution_count": null,
   "metadata": {},
   "outputs": [],
   "source": []
  },
  {
   "cell_type": "code",
   "execution_count": 31,
   "metadata": {},
   "outputs": [],
   "source": [
    "v = list()"
   ]
  },
  {
   "cell_type": "code",
   "execution_count": 32,
   "metadata": {},
   "outputs": [],
   "source": [
    "v.append(np.random.rand(100,1))"
   ]
  },
  {
   "cell_type": "code",
   "execution_count": null,
   "metadata": {},
   "outputs": [],
   "source": []
  },
  {
   "cell_type": "code",
   "execution_count": null,
   "metadata": {},
   "outputs": [],
   "source": []
  },
  {
   "cell_type": "code",
   "execution_count": null,
   "metadata": {},
   "outputs": [],
   "source": []
  },
  {
   "cell_type": "code",
   "execution_count": null,
   "metadata": {},
   "outputs": [],
   "source": []
  },
  {
   "cell_type": "code",
   "execution_count": null,
   "metadata": {},
   "outputs": [],
   "source": []
  },
  {
   "cell_type": "code",
   "execution_count": null,
   "metadata": {},
   "outputs": [],
   "source": [
    "im_width = 3890\n",
    "im_height = 1275\n",
    "num_pix_full = im_width*im_height\n",
    "\n",
    "rescale_size_tiny = 1500\n",
    "rescale_size_med = 5000\n",
    "\n",
    "# Check if pic at least 2(?) x rescale size!\n",
    "\n",
    "rescale_ratio_tiny = 1/(np.sqrt(num_pix_full/rescale_size_tiny))\n",
    "rescale_ratio_med = 1/(np.sqrt(num_pix_full/rescale_size_med))\n",
    "\n",
    "im_size_tiny = (round(rescale_ratio_tiny*im_width), \\\n",
    "                round(rescale_ratio_tiny*im_height))\n",
    "im_size_med = (round(rescale_ratio_med*im_width), \\\n",
    "               round(rescale_ratio_med*im_height))\n",
    "\n",
    "#double_size = (im.size[0]*2, im.size[1]*2)\n",
    "#larger_im = im.resize(double_size)\n",
    "#larger_im.save(\"bigger.sample3.png\")"
   ]
  },
  {
   "cell_type": "code",
   "execution_count": null,
   "metadata": {},
   "outputs": [],
   "source": []
  },
  {
   "cell_type": "code",
   "execution_count": 2,
   "metadata": {},
   "outputs": [],
   "source": [
    "from PIL import Image\n",
    "im_RGB = Image.open(im_path)"
   ]
  },
  {
   "cell_type": "code",
   "execution_count": null,
   "metadata": {
    "scrolled": false
   },
   "outputs": [],
   "source": []
  },
  {
   "cell_type": "code",
   "execution_count": 38,
   "metadata": {},
   "outputs": [],
   "source": [
    "im_RGB.getpalette()"
   ]
  },
  {
   "cell_type": "code",
   "execution_count": 16,
   "metadata": {},
   "outputs": [
    {
     "data": {
      "text/plain": [
       "(142, 88)"
      ]
     },
     "execution_count": 16,
     "metadata": {},
     "output_type": "execute_result"
    }
   ],
   "source": [
    "im_size_tiny = (int(im_size[0]/2), int(im_size[1]/2))\n",
    "im_size_tiny"
   ]
  },
  {
   "cell_type": "code",
   "execution_count": null,
   "metadata": {},
   "outputs": [],
   "source": []
  },
  {
   "cell_type": "code",
   "execution_count": 19,
   "metadata": {},
   "outputs": [
    {
     "data": {
      "image/png": "[encoded data removed]",
      "text/plain": [
       "<PIL.Image.Image image mode=RGB size=284x177 at 0x10FFDFF28>"
      ]
     },
     "execution_count": 19,
     "metadata": {},
     "output_type": "execute_result"
    }
   ],
   "source": [
    "im_RGB_lossy = im_RGB_tiny.resize(im_size, Image.ANTIALIAS)\n",
    "im_RGB_lossy"
   ]
  },
  {
   "cell_type": "code",
   "execution_count": null,
   "metadata": {},
   "outputs": [],
   "source": []
  },
  {
   "cell_type": "code",
   "execution_count": null,
   "metadata": {},
   "outputs": [],
   "source": []
  },
  {
   "cell_type": "code",
   "execution_count": null,
   "metadata": {},
   "outputs": [],
   "source": []
  },
  {
   "cell_type": "code",
   "execution_count": 1,
   "metadata": {
    "scrolled": false
   },
   "outputs": [
    {
     "name": "stdout",
     "output_type": "stream",
     "text": [
      "Generating random test SDP\n",
      "Solving test SDP with SDPSubspaceSolver\n",
      "\n",
      "\n",
      "SDPSubspaceSolver called with eigenvalue solver eigsh and SDP solver cvx\n",
      "    |                                         | Runtime Ratios | \n",
      " it | probj        dures    prres    dugap    | eig  SDP  main | eigtol   prdim  time\n",
      "  0 | 3.26901e-03 -1.00e+00 7.88e-08 1.50e-09 | 0.83 0.15 0.02 | 1.0e-08     4   0.16\n",
      "  1 | 1.69765e-03 -3.39e-01 1.59e-09 4.11e-11 | 0.62 0.30 0.08 | 1.0e-10     6   0.03\n",
      "  2 | 1.40225e-03 -1.94e-01 2.28e-08 1.18e-09 | 0.53 0.38 0.08 | 1.0e-12     8   0.03\n",
      "  3 | 1.33493e-03 -5.99e-03 1.55e-09 1.26e-10 | 0.55 0.40 0.05 | 1.0e-14    10   0.05\n",
      "  4 | 1.33483e-03 -7.69e-06 2.13e-09 1.79e-10 | 0.53 0.41 0.06 | 1.0e-14    12   0.05\n",
      "  5 | 1.33483e-03  1.71e-09 6.81e-10 7.49e-11 | 0.51 0.43 0.07 | 1.0e-14    14   0.06\n",
      "\n",
      "EXIT -- Optimal solution found.\n",
      "\n",
      "Total runtime   :   0.39\n",
      "Num eig calls   :   9\n",
      "\n",
      "\n",
      "NewtonSolver called with eigenvalue solver eigsh\n",
      "    |                                N-step | Runtime Ratios | \n",
      " it |  probj       prres    dugap   try take| eig  Ax=b main | eigtol     time\n",
      "  0 |  5.79602e+01 1.52e+01 5.50e+01  N   N | 0.98 0.00 0.02 | 1.0e-08    0.03\n",
      "  1 | -1.25597e-01 1.43e+00 1.96e-01  N   N | 1.00 0.00 0.00 | 1.0e-10    0.43\n",
      "  2 | -3.44453e+00 2.79e+02 5.75e+00  Y   Y | 0.91 0.06 0.03 | 1.0e-12    0.02\n",
      "  3 | -3.34018e-03 9.46e-01 3.63e-02  Y   Y | 1.00 0.00 0.00 | 1.0e-14    1.93\n",
      "  4 |  1.03258e-03 3.07e-02 6.99e-04  Y   Y | 1.00 0.00 0.00 | 1.0e-14    0.60\n",
      "  5 |  1.22370e-03 1.51e-02 2.09e-04  Y   Y | 0.99 0.00 0.00 | 1.0e-14    0.39\n",
      "  6 |  1.12187e-03 2.53e-01 6.88e-04  Y   Y | 0.99 0.00 0.00 | 1.0e-14    0.29\n",
      "  7 |  1.22450e-03 1.10e-01 2.31e-04  Y   Y | 0.99 0.00 0.00 | 1.0e-14    0.28\n",
      "  8 |  1.28626e-03 4.60e-02 5.74e-05  Y   Y | 0.99 0.01 0.00 | 1.0e-14    0.26\n",
      "  9 |  1.31904e-03 1.79e-02 2.49e-06  Y   Y | 0.99 0.00 0.01 | 1.0e-14    0.27\n",
      " 10 |  1.33202e-03 5.70e-03 5.94e-06  Y   Y | 0.99 0.01 0.00 | 1.0e-14    0.28\n",
      " 11 |  1.33469e-03 1.11e-03 2.06e-06  Y   Y | 0.99 0.01 0.00 | 1.0e-14    0.25\n",
      " 12 |  1.33483e-03 6.19e-05 1.31e-07  Y   Y | 0.99 0.01 0.00 | 1.0e-14    0.26\n",
      " 13 |  1.33483e-03 2.18e-07 4.65e-10  Y   Y | 0.99 0.01 0.00 | 1.0e-14    0.24\n",
      " 14 |  1.33483e-03 2.74e-12 3.86e-14  N   N | 0.99 0.00 0.01 | 1.0e-14    0.17\n",
      "\n",
      "EXIT -- Optimal solution found.\n",
      "\n",
      "Total runtime     :   5.70\n",
      "Num eig calls     :   16\n",
      "Num Ax=b solves   :   12\n",
      "\n",
      "\n",
      "Computing residuals for experiments\n",
      "\n",
      "         | primal residual |  dual residual  |  duality gap   | runtime secs\n",
      "  SDPSS  |    6.807e-10    |    1.632e-10    |   7.492e-11    |         0.39\n",
      " Newton  |    6.807e-10    |    1.632e-10    |   7.492e-11    |         0.39\n"
     ]
    }
   ],
   "source": [
    "# Run SDP Test\n",
    "\n",
    "import sys\n",
    "import os\n",
    "import numpy as np\n",
    "#print(os.getcwd())\n",
    "sys.path.append(os.getcwd() + \"/test\")\n",
    "#print(sys.path)\n",
    "\n",
    "seed_num = 2\n",
    "pr_dim_update = []\n",
    "cvx_tol_scale=1e-2\n",
    "cvx_verbose = False\n",
    "\n",
    "run_cvx_on_full_SDP = False\n",
    "\n",
    "run_Newton_solver = True\n",
    "use_Newton_step = True\n",
    "eig_solver_Newton = \"eigsh\"\n",
    "#eig_solver_Newton = \"lobpcg\"\n",
    "\n",
    "eig_solver = \"eigsh\"\n",
    "#eig_solver = \"lobpcg\"\n",
    "import runtestSDPSS\n",
    "(X, y, A, b, C, X_SDPSS_sub, V_SDPSS_sub, y_SDPSS) \\\n",
    "= runtestSDPSS.main(n = 150, m = 2, cvx_verbose=cvx_verbose, \\\n",
    "                    cvx_tol_scale=cvx_tol_scale, \\\n",
    "                    eig_solver = eig_solver, eig_solver_Newton = eig_solver_Newton, \\\n",
    "                    run_cvx_on_full_SDP=run_cvx_on_full_SDP, \\\n",
    "                    seed_num=seed_num, pr_dim_update=pr_dim_update, \\\n",
    "                    run_Newton_solver = run_Newton_solver, \\\n",
    "                    use_Newton_step = use_Newton_step)"
   ]
  },
  {
   "cell_type": "code",
   "execution_count": null,
   "metadata": {},
   "outputs": [],
   "source": [
    "type(A[0])\n",
    "A1 = sp.sparse.csr_matrix(A[0])\n",
    "type(A1)\n",
    "type(A[1])\n",
    "A2 = sp.sparse.csr_matrix(A[1])\n",
    "type(A2)"
   ]
  },
  {
   "cell_type": "code",
   "execution_count": null,
   "metadata": {},
   "outputs": [],
   "source": [
    "Atall = sp.sparse.vstack( [A1, A2] )\n",
    "Atall.shape"
   ]
  },
  {
   "cell_type": "code",
   "execution_count": null,
   "metadata": {},
   "outputs": [],
   "source": []
  },
  {
   "cell_type": "code",
   "execution_count": null,
   "metadata": {},
   "outputs": [],
   "source": []
  },
  {
   "cell_type": "code",
   "execution_count": null,
   "metadata": {},
   "outputs": [],
   "source": []
  },
  {
   "cell_type": "code",
   "execution_count": null,
   "metadata": {},
   "outputs": [],
   "source": [
    "import numpy as np\n",
    "import scipy as sp\n",
    "from scipy.sparse.linalg import lobpcg\n",
    "from scipy.sparse.linalg import eigsh\n",
    "from scipy.sparse import identity\n",
    "import time\n"
   ]
  },
  {
   "cell_type": "code",
   "execution_count": null,
   "metadata": {},
   "outputs": [],
   "source": []
  },
  {
   "cell_type": "code",
   "execution_count": null,
   "metadata": {},
   "outputs": [],
   "source": []
  },
  {
   "cell_type": "code",
   "execution_count": null,
   "metadata": {},
   "outputs": [],
   "source": [
    "#[d, V] = eigsh(A, k = num_eigs, sigma = sigma, \n",
    "#               which = 'SA', tol = eigs_tol, maxiter=eigs_maxiters)\n",
    "# eigsh(A, k=6, M=None, sigma=None, which='LM', \n",
    "#       v0=None, ncv=None, maxiter=None, tol=0, \n",
    "#       return_eigenvectors=True, Minv=None, OPinv=None, mode='normal')\n",
    "i = 4;\n",
    "num_eigs = 1 # 1\n",
    "bk_sz = 40 # 20\n",
    "sigma = None # None\n",
    "eigs_tol = 1e-3 # 1e-6\n",
    "maxiter = 20000 # 2000\n",
    "v0 = v_prev # None\n",
    "shift_mat = False\n",
    "shift_val = np.float(-0.490)\n",
    "\n",
    "if shift_mat:\n",
    "    n = M[0].shape[0]\n",
    "    t = shift_val\n",
    "    S = t*identity(n, dtype='float64', format='csc')\n",
    "    A = M[i] + S\n",
    "else:\n",
    "    A = M[i]\n",
    "\n",
    "time_start = time.time()\n",
    "[d, V] = eigsh(A, k = num_eigs, ncv = bk_sz, sigma = sigma, \\\n",
    "               which = 'SA', tol = eigs_tol, maxiter=maxiter, \\\n",
    "               v0=v0)\n",
    "run_time = time.time() - time_start"
   ]
  },
  {
   "cell_type": "code",
   "execution_count": null,
   "metadata": {},
   "outputs": [],
   "source": [
    "de = min(d)\n",
    "if shift_mat:\n",
    "    de = de - np.float(shift_val)\n",
    "[de, run_time]"
   ]
  },
  {
   "cell_type": "code",
   "execution_count": null,
   "metadata": {},
   "outputs": [],
   "source": [
    "#[d, V] = lobpcg(A, X, B=None, M=None, Y=None, tol=None, maxiter=20, \n",
    "#                largest=True, verbosityLevel=0, \n",
    "#                retLambdaHistory=False, retResidualNormsHistory=False)\n",
    "\n",
    "tol_l = 1e-6\n",
    "maxiter_l = 10000\n",
    "\n",
    "time_start = time.time()\n",
    "[dl, Vl] = lobpcg(A, v_prev, B=None, M=None, Y=None, tol=tol_l, maxiter=maxiter_l, \\\n",
    "                largest=False, verbosityLevel=0, \\\n",
    "                retLambdaHistory=False, retResidualNormsHistory=False)\n",
    "run_time = time.time() - time_start"
   ]
  },
  {
   "cell_type": "code",
   "execution_count": null,
   "metadata": {},
   "outputs": [],
   "source": []
  },
  {
   "cell_type": "code",
   "execution_count": null,
   "metadata": {},
   "outputs": [],
   "source": []
  },
  {
   "cell_type": "code",
   "execution_count": null,
   "metadata": {},
   "outputs": [],
   "source": [
    "# Fixing SDPSS\n",
    "sys.path.append(os.getcwd() + \"/test\")\n",
    "from SDPSubspaceSolver import *\n",
    "[X_SDPSS_sub, V_SDPSS_sub, y_SDPSS, time_total, M] \\\n",
    "    = SDPSubspaceSolver(A, b, C, eigsh_tol=1e-10, \\\n",
    "                        eigsh_tol_update=1e-2, eigsh_tol_min=1e-14, \\\n",
    "                        eigsh_maxiters = 20000, cvx_verbose=False)"
   ]
  },
  {
   "cell_type": "code",
   "execution_count": null,
   "metadata": {},
   "outputs": [],
   "source": [
    "sys.path.append(os.getcwd() + \"/src/util\")\n",
    "from ComputeAadjoint import *\n",
    "from scipy.sparse.linalg import eigsh\n",
    "#pr_res_SDPSS = np.linalg.norm(ComputeAforward(A,X_SDPSS) - b)\n",
    "Aty_SDPSS = ComputeAadjoint(A,y_SDPSS)\n",
    "[du_res_SDPSS, V] = eigsh(C-Aty_SDPSS, k = 1, which = 'SA', tol = 1e-14, maxiter=20000)\n",
    "#pr_obj = np.tensordot(C,X_SDPSS,2)\n",
    "#du_obj = np.tensordot(b,y_SDPSS,2)\n",
    "#gap_res_SDPSS = pr_obj - du_obj # must be >= 0 if pr and du feasible\n",
    "du_res_SDPSS"
   ]
  },
  {
   "cell_type": "code",
   "execution_count": null,
   "metadata": {},
   "outputs": [],
   "source": []
  },
  {
   "cell_type": "code",
   "execution_count": null,
   "metadata": {},
   "outputs": [],
   "source": [
    "import numpy as np\n",
    "n = 4000\n",
    "m = 4000\n",
    "A = np.random.rand(m,n)\n",
    "b = np.random.rand(m,1)"
   ]
  },
  {
   "cell_type": "code",
   "execution_count": null,
   "metadata": {},
   "outputs": [],
   "source": [
    "x_lu = np.linalg.solve(A, b)\n",
    "np.linalg.norm(A.dot(x_lu) - b)"
   ]
  },
  {
   "cell_type": "code",
   "execution_count": null,
   "metadata": {},
   "outputs": [],
   "source": [
    "AtA = A.transpose().dot(A)\n",
    "Atb = A.transpose().dot(b)\n",
    "from scipy.sparse.linalg import cg"
   ]
  },
  {
   "cell_type": "code",
   "execution_count": null,
   "metadata": {},
   "outputs": [],
   "source": [
    "cg_tol = 1e-16\n",
    "cg_maxiter = round(n/10)\n",
    "x_cg_temp = cg(AtA, Atb, tol=cg_tol, maxiter=cg_maxiter)\n",
    "x_cg = np.reshape(x_cg_temp[0], (n,1))\n",
    "np.linalg.norm(A.dot(x_cg) - b) / np.linalg.norm(b)"
   ]
  },
  {
   "cell_type": "code",
   "execution_count": null,
   "metadata": {},
   "outputs": [],
   "source": []
  },
  {
   "cell_type": "code",
   "execution_count": null,
   "metadata": {},
   "outputs": [],
   "source": [
    "from tkinter import *\n",
    "\n",
    "root = Tk()\n",
    "\n",
    "def key(event):\n",
    "    print(\"pressed\", repr(event.char))\n",
    "\n",
    "def callback(event):\n",
    "    frame.focus_set()\n",
    "    print(\"clicked at\", event.x, event.y)\n",
    "\n",
    "frame = Frame(root, width=100, height=100)\n",
    "frame.bind(\"<Key>\", key)\n",
    "frame.bind(\"<Button-1>\", callback)\n",
    "frame.pack()\n",
    "\n",
    "root.mainloop()"
   ]
  },
  {
   "cell_type": "code",
   "execution_count": null,
   "metadata": {},
   "outputs": [],
   "source": [
    "# Compares `eigsh` with `lobpcg`\n",
    "import numpy as np\n",
    "import scipy as sp\n",
    "from scipy.sparse import spdiags\n",
    "from scipy.sparse.linalg import eigsh\n",
    "from scipy.sparse.linalg import lobpcg\n",
    "from scipy.linalg import orth\n",
    "def get_rand_sym_mat(n, is_PD=True):\n",
    "    U = orth(np.random.rand(n,n))\n",
    "#    np.matmul(np.matmul(V_sub.transpose(),C),V_sub)\n",
    "    D = np.diag(np.random.rand(n)) + np.ones((n))\n",
    "    M = np.matmul(np.matmul(U,D), U.transpose())\n",
    "    M = M + M.transpose()\n",
    "    return M"
   ]
  }
 ],
 "metadata": {
  "kernelspec": {
   "display_name": "Python 3",
   "language": "python",
   "name": "python3"
  },
  "language_info": {
   "codemirror_mode": {
    "name": "ipython",
    "version": 3
   },
   "file_extension": ".py",
   "mimetype": "text/x-python",
   "name": "python",
   "nbconvert_exporter": "python",
   "pygments_lexer": "ipython3",
   "version": "3.6.5"
  }
 },
 "nbformat": 4,
 "nbformat_minor": 2
}
